{
 "cells": [
  {
   "cell_type": "code",
   "execution_count": 1,
   "id": "2d874102",
   "metadata": {},
   "outputs": [],
   "source": [
    "import numpy as np \n",
    "import random\n",
    "import networkx as nx\n",
    "import matplotlib.pyplot as plt\n",
    "import time "
   ]
  },
  {
   "cell_type": "code",
   "execution_count": 2,
   "id": "41e468ce",
   "metadata": {},
   "outputs": [],
   "source": [
    "def nNumber(G,r,step):\n",
    "    n=len(G)\n",
    "    z=n\n",
    "    t=0\n",
    "    M_array=np.zeros(step)\n",
    "    M={random.randint(0,n-1)}\n",
    "    D={j for j in range(0,n)}\n",
    "    R=D-M;u=0\n",
    "    while u<step:\n",
    "        i=len(M)     \n",
    "        k=random.random()\n",
    "        pi_neg=(n-i)/((n-i)+(i*r))\n",
    "        pi_pos=(i*r)/((n-i)+(i*r))\n",
    "        pii=1-(pi_neg+pi_pos)\n",
    "        if k<(1-pii) and i!=0  :\n",
    "\n",
    "        \n",
    "            if k<pi_pos:  ###probabililty for a mutant to reproduce\n",
    "                ch=random.sample(M,1)\n",
    "                NE=[n for n in G.neighbors(ch[0])]\n",
    "                chh=random.sample(NE,1)\n",
    "                if chh[0]  in R:\n",
    "                    M.add(chh[0])\n",
    "                    R.remove(chh[0])\n",
    "                    t+=1\n",
    "\n",
    "            else:   ###of course when p <(1-pii) and >pi_pos so this is obvious this is for a mutant to die lonely\n",
    "                chre=random.sample(R,1)\n",
    "                NEre=[n for n in G.neighbors(chre[0])]\n",
    "                chhre=random.sample(NEre,1)\n",
    "                if chhre[0]  in M:\n",
    "                    R.add(chhre[0])\n",
    "                    M.remove(chhre[0])\n",
    "                    t+=1\n",
    "        M_array[u]=len(M)/n\n",
    "        u=u+1\n",
    "            \n",
    "    return(t,M_array)"
   ]
  },
  {
   "cell_type": "code",
   "execution_count": 3,
   "id": "7ad0fd66",
   "metadata": {},
   "outputs": [],
   "source": [
    "def addedge(G):  ###for connecting degrees=1\n",
    "    a=nx.adjacency_matrix(G).toarray()\n",
    "    degree=np.sum(a,axis=0)\n",
    "    v=np.nonzero(degree==1)[0] ##identifying deg=1 vertices\n",
    "   \n",
    "    def chk(choice):\n",
    "        if choice[0]!=choice[1]:\n",
    "            return True\n",
    "        else:\n",
    "            return False\n",
    "        \n",
    "    \n",
    "    choice=np.random.choice(v,2)\n",
    "    while chk(choice)==False :\n",
    "        choice=np.random.choice(v,2)\n",
    "    \n",
    "    a[choice[0]][choice[1]]=1;a[choice[1]][choice[0]]\n",
    "\n",
    "    G_new=nx.from_numpy_matrix(a,create_using=nx.Graph())\n",
    "    \n",
    "    return G_new\n",
    "\n",
    "\n",
    "\n",
    "def check_stability(mm):\n",
    "    c=False\n",
    "    if mm[-1]==1 or mm[-1]==0:\n",
    "        c=True\n",
    "    return c"
   ]
  },
  {
   "cell_type": "code",
   "execution_count": 4,
   "id": "8870c26a",
   "metadata": {},
   "outputs": [
    {
     "name": "stderr",
     "output_type": "stream",
     "text": [
      "/tmp/ipykernel_150601/3078464903.py:28: DeprecationWarning: Sampling from a set deprecated\n",
      "since Python 3.9 and will be removed in a subsequent version.\n",
      "  chre=random.sample(R,1)\n",
      "/tmp/ipykernel_150601/3078464903.py:19: DeprecationWarning: Sampling from a set deprecated\n",
      "since Python 3.9 and will be removed in a subsequent version.\n",
      "  ch=random.sample(M,1)\n"
     ]
    }
   ],
   "source": [
    "t1=time.time()\n",
    "num=300\n",
    "step=300000\n",
    "size=500\n",
    "r=5\n",
    "start=0;end=250\n",
    "no_graph=np.arange(start,end)\n",
    "fix_time_total=[]\n",
    "ext_time_total=[]\n",
    "#G_tot=[];\n",
    "#M=[]\n",
    "for j in (no_graph):\n",
    "    mm=[]\n",
    "    #mm=np.zeros(num*step)\n",
    "    fix_time=[];ext_time=[]\n",
    "\n",
    "    A=np.loadtxt('G_r5_'+str(j)+'.txt')    \n",
    "    G=nx.from_numpy_array(A,create_using=nx.Graph())  \n",
    "\n",
    "    for h in range (num):\n",
    "        #print('h=',h)\n",
    "\n",
    "        t,m=nNumber(G,r,step)\n",
    "        \n",
    "        if check_stability(m)==False:\n",
    "            print('num=', h)\n",
    "            print('no=', j)\n",
    "        \n",
    "        #mm[0:step]=m\n",
    "        mm.append(m)\n",
    "        if m[-1]==1:\n",
    "            for tt in range (len(m)):\n",
    "                if m[tt]==m[-1]:\n",
    "                    fix_time.append(tt)\n",
    "                    break\n",
    "            \n",
    "        elif m[-1]==0:\n",
    "            for tt in range (len(m)):\n",
    "                if m[tt]==m[-1]:\n",
    "                    ext_time.append(tt)\n",
    "                    break\n",
    "    M_avg=mm[0]                      \n",
    "    for muts in mm[1:]:\n",
    "        M_avg=muts+M_avg\n",
    "    M_avg=M_avg/num\n",
    "    np.savetxt('M_avg_r5'+str(j)+'.dat',M_avg)\n",
    "    np.savetxt('fixtime_r5_'+str(j)+'.dat',np.array(fix_time))\n",
    "    np.savetxt('exttime_r5_'+str(j)+'.dat',np.array(ext_time))\n",
    "    #M.append(mm)\n",
    "    \n",
    "#np.savetxt('fixation'+str(start)+'-'+str(end)+'.dat',fix_time_total)\n",
    "#np.savetxt('extinction'+str(start)+'-'+str(end)+'.dat',ext_time_total)\n",
    "t2=time.time()"
   ]
  },
  {
   "cell_type": "code",
   "execution_count": 5,
   "id": "adf73ebc",
   "metadata": {},
   "outputs": [],
   "source": [
    "treer5_fix=[]\n",
    "for i in range (1000):\n",
    "    treer5_fix.append(np.loadtxt('fixtime_r5_'+str(i)+'.dat'))"
   ]
  },
  {
   "cell_type": "code",
   "execution_count": 6,
   "id": "bcbc9727",
   "metadata": {},
   "outputs": [],
   "source": [
    "f5_mean=[]\n",
    "for f in treer5_fix:\n",
    "    f5_mean.append(np.sum(f)/len(f))"
   ]
  },
  {
   "cell_type": "code",
   "execution_count": 7,
   "id": "ed7a5c31",
   "metadata": {},
   "outputs": [
    {
     "data": {
      "text/plain": [
       "1000"
      ]
     },
     "execution_count": 7,
     "metadata": {},
     "output_type": "execute_result"
    }
   ],
   "source": [
    "len(treer5_fix)"
   ]
  },
  {
   "cell_type": "code",
   "execution_count": 8,
   "id": "87a44d2a",
   "metadata": {},
   "outputs": [
    {
     "data": {
      "text/plain": [
       "Text(0, 0.5, 'fixation time_r5')"
      ]
     },
     "execution_count": 8,
     "metadata": {},
     "output_type": "execute_result"
    },
    {
     "data": {
      "image/png": "[encoded data removed]",
      "text/plain": [
       "<Figure size 432x288 with 1 Axes>"
      ]
     },
     "metadata": {
      "needs_background": "light"
     },
     "output_type": "display_data"
    }
   ],
   "source": [
    "plt.plot(f5_mean)\n",
    "plt.xlabel('number of added edges to graph');plt.ylabel('fixation time_r5')"
   ]
  },
  {
   "cell_type": "code",
   "execution_count": 30,
   "id": "5c099df5",
   "metadata": {},
   "outputs": [
    {
     "data": {
      "text/plain": [
       "13560.847736625514"
      ]
     },
     "execution_count": 30,
     "metadata": {},
     "output_type": "execute_result"
    }
   ],
   "source": [
    "f5_mean[900]"
   ]
  },
  {
   "cell_type": "code",
   "execution_count": 14,
   "id": "04786ba0",
   "metadata": {},
   "outputs": [
    {
     "data": {
      "text/plain": [
       "17544.156378600823"
      ]
     },
     "execution_count": 14,
     "metadata": {},
     "output_type": "execute_result"
    }
   ],
   "source": [
    "f5_mean[400]"
   ]
  },
  {
   "cell_type": "code",
   "execution_count": 17,
   "id": "f3e419ec",
   "metadata": {},
   "outputs": [
    {
     "data": {
      "text/plain": [
       "11888.439330543933"
      ]
     },
     "execution_count": 17,
     "metadata": {},
     "output_type": "execute_result"
    }
   ],
   "source": [
    "f5_mean[999]"
   ]
  },
  {
   "cell_type": "code",
   "execution_count": 9,
   "id": "5571b789",
   "metadata": {},
   "outputs": [
    {
     "name": "stderr",
     "output_type": "stream",
     "text": [
      "No artists with labels found to put in legend.  Note that artists whose label start with an underscore are ignored when legend() is called with no argument.\n"
     ]
    },
    {
     "data": {
      "image/png": "[encoded data removed]",
      "text/plain": [
       "<Figure size 432x288 with 1 Axes>"
      ]
     },
     "metadata": {
      "needs_background": "light"
     },
     "output_type": "display_data"
    }
   ],
   "source": [
    "from numpy import arange\n",
    "from scipy.optimize import curve_fit\n",
    "plt.loglog(f5_mean,'o-')\n",
    "popt,pcov=curve_fit(lambda x,c,a:c*x**(a),np.arange(0,1000)[5:],f5_mean[5:])\n",
    "plt.plot(np.arange(0,1000)[5:],popt[0]*np.arange(0,1000)[5:]**(popt[1]))\n",
    "plt.legend()\n",
    "plt.show()\n"
   ]
  },
  {
   "cell_type": "code",
   "execution_count": 10,
   "id": "f5e8f102",
   "metadata": {},
   "outputs": [
    {
     "data": {
      "text/plain": [
       "(array([ 7.82242600e+04, -2.57564595e-01]),\n",
       " array([[ 3.04705653e+05, -6.94700216e-01],\n",
       "        [-6.94700216e-01,  1.68536654e-06]]))"
      ]
     },
     "execution_count": 10,
     "metadata": {},
     "output_type": "execute_result"
    }
   ],
   "source": [
    "popt,pcov"
   ]
  },
  {
   "cell_type": "code",
   "execution_count": 11,
   "id": "79ba2f52",
   "metadata": {},
   "outputs": [],
   "source": [
    "last5m_avg=[]\n",
    "for i in range (1000):\n",
    "    M_avg=np.loadtxt('M_avg_r5'+str(i)+'.dat')\n",
    "    last5m_avg.append(M_avg[-1])"
   ]
  },
  {
   "cell_type": "code",
   "execution_count": 12,
   "id": "24e72242",
   "metadata": {},
   "outputs": [
    {
     "data": {
      "text/plain": [
       "Text(0, 0.5, 'fixation probablity_r5')"
      ]
     },
     "execution_count": 12,
     "metadata": {},
     "output_type": "execute_result"
    },
    {
     "data": {
      "image/png": "[encoded data removed]",
      "text/plain": [
       "<Figure size 432x288 with 1 Axes>"
      ]
     },
     "metadata": {
      "needs_background": "light"
     },
     "output_type": "display_data"
    }
   ],
   "source": [
    "plt.plot(last5m_avg)\n",
    "plt.ylim(0,1)\n",
    "plt.xlabel('number of added edges to graph');plt.ylabel('fixation probablity_r5')"
   ]
  },
  {
   "cell_type": "code",
   "execution_count": 25,
   "id": "b95959d9",
   "metadata": {},
   "outputs": [
    {
     "name": "stderr",
     "output_type": "stream",
     "text": [
      "/tmp/ipykernel_150601/2268466370.py:4: RuntimeWarning: divide by zero encountered in power\n",
      "  popt,pcov=curve_fit(lambda x,c,a:c*x**(a),np.arange(0,1000),last5m_avg)\n",
      "No artists with labels found to put in legend.  Note that artists whose label start with an underscore are ignored when legend() is called with no argument.\n"
     ]
    },
    {
     "data": {
      "image/png": "[encoded data removed]",
      "text/plain": [
       "<Figure size 432x288 with 1 Axes>"
      ]
     },
     "metadata": {
      "needs_background": "light"
     },
     "output_type": "display_data"
    }
   ],
   "source": [
    "from numpy import arange\n",
    "from scipy.optimize import curve_fit\n",
    "plt.plot(last5m_avg)\n",
    "popt,pcov=curve_fit(lambda x,c,a:c*x**(a),np.arange(0,1000),last5m_avg)\n",
    "plt.plot(np.arange(0,1000),popt[0]*np.arange(0,1000)**(popt[1]))\n",
    "plt.legend()\n",
    "plt.show()"
   ]
  },
  {
   "cell_type": "code",
   "execution_count": null,
   "id": "e6164cde",
   "metadata": {},
   "outputs": [],
   "source": []
  }
 ],
 "metadata": {
  "kernelspec": {
   "display_name": "Python 3 (ipykernel)",
   "language": "python",
   "name": "python3"
  },
  "language_info": {
   "codemirror_mode": {
    "name": "ipython",
    "version": 3
   },
   "file_extension": ".py",
   "mimetype": "text/x-python",
   "name": "python",
   "nbconvert_exporter": "python",
   "pygments_lexer": "ipython3",
   "version": "3.9.12"
  }
 },
 "nbformat": 4,
 "nbformat_minor": 5
}
